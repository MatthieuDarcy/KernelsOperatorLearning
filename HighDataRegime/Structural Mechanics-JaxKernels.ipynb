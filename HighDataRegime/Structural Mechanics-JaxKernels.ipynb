{
 "cells": [
  {
   "cell_type": "code",
   "execution_count": 1,
   "id": "5ca7bac0",
   "metadata": {},
   "outputs": [],
   "source": [
    "import matplotlib.pyplot as plt\n",
    "from sklearn.decomposition import PCA\n",
    "from sklearn.linear_model import LinearRegression\n",
    "from sklearn.metrics import pairwise_distances\n",
    "import numpy as onp\n",
    "import jax.numpy as np\n",
    "from jax import jit, vmap\n",
    "import matplotlib.pyplot as plt\n",
    "from tqdm.notebook import tqdm as t\n",
    "from ipywidgets import interact\n",
    "from jax import grad\n",
    "from jax.scipy.optimize import minimize\n",
    "from jax.config import config\n",
    "config.update(\"jax_enable_x64\", True)\n",
    "import jax\n",
    "from jax.scipy.linalg import cholesky, cho_factor, cho_solve\n",
    "from jax.scipy.optimize import minimize\n",
    "from jaxopt import ProjectedGradient\n",
    "from jaxopt.projection import projection_box\n",
    "\n",
    "import pandas as pd"
   ]
  },
  {
   "cell_type": "code",
   "execution_count": 2,
   "id": "ab066785",
   "metadata": {},
   "outputs": [],
   "source": [
    "PCANet = pd.read_csv(\"data/PCA_Solid.csv\", header = None).to_numpy()\n",
    "DeepONet = pd.read_csv(\"data/DeepONet_Solid.csv\", header = None).to_numpy()\n",
    "Para = pd.read_csv(\"data/PARA_Solid.csv\", header = None).to_numpy()\n",
    "FNO = pd.read_csv(\"data/FNO_Solid.csv\", header = None).to_numpy()"
   ]
  },
  {
   "cell_type": "code",
   "execution_count": 3,
   "id": "a5d755ca",
   "metadata": {},
   "outputs": [
    {
     "data": {
      "text/plain": [
       "(DeviceArray(0.04670721, dtype=float64),\n",
       " DeviceArray(0.04765377, dtype=float64),\n",
       " DeviceArray(0.05201438, dtype=float64),\n",
       " DeviceArray(0.04550915, dtype=float64))"
      ]
     },
     "execution_count": 3,
     "metadata": {},
     "output_type": "execute_result"
    }
   ],
   "source": [
    "np.min(PCANet[:,4]), np.min(FNO[:,4]), np.min(DeepONet[:, 4]), np.min(Para[:, 4])"
   ]
  },
  {
   "cell_type": "code",
   "execution_count": 4,
   "id": "c7a39d74",
   "metadata": {},
   "outputs": [],
   "source": [
    "#Structural Mechanics"
   ]
  },
  {
   "cell_type": "code",
   "execution_count": 5,
   "id": "7e379dad",
   "metadata": {},
   "outputs": [],
   "source": [
    "Inputs = np.load('data/StructuralMechanics_inputs.npy')\n",
    "Outputs = np.load('data/StructuralMechanics_outputs.npy')"
   ]
  },
  {
   "cell_type": "code",
   "execution_count": 6,
   "id": "ec587f3a",
   "metadata": {},
   "outputs": [],
   "source": [
    "Inputs = Inputs[:,0,:]"
   ]
  },
  {
   "cell_type": "code",
   "execution_count": 7,
   "id": "8e621cd3",
   "metadata": {},
   "outputs": [],
   "source": [
    "#Inputs = Inputs.transpose((2,1,0))\n",
    "Outputs = Outputs.transpose((2,1,0))\n",
    "Inputs_fl = Inputs.T.reshape(len(Inputs.T), 41)\n",
    "Outputs_fl = Outputs.reshape(40000, 41*41)"
   ]
  },
  {
   "cell_type": "code",
   "execution_count": 8,
   "id": "6e397ef7",
   "metadata": {},
   "outputs": [],
   "source": [
    "Ntrain = 20000\n",
    "Xtr = Inputs_fl[:Ntrain]\n",
    "Ytr = Outputs_fl[:Ntrain]\n",
    "Xtest = Inputs_fl[20000:]\n",
    "Ytest = Outputs_fl[20000:]"
   ]
  },
  {
   "cell_type": "code",
   "execution_count": 9,
   "id": "f7df5caa",
   "metadata": {},
   "outputs": [],
   "source": [
    "def sqeuclidean_distances(x: np.ndarray, y: np.ndarray) -> float:\n",
    "    return np.sum( (x - y) ** 2)\n",
    "dists = jit(vmap(vmap(sqeuclidean_distances, in_axes=(None, 0)), in_axes=(0, None)))\n",
    "\n",
    "def euclidean_distances(x: np.ndarray, y: np.ndarray) -> float:\n",
    "    return np.sqrt(np.sum( (x - y) ** 2))\n",
    "sqdists = jit(vmap(vmap(euclidean_distances, in_axes=(None, 0)), in_axes=(0, None)))\n",
    "\n",
    "\n",
    "@jit\n",
    "def matern(v1, v2, sigma = 50):\n",
    "    #V1 is a [k1] vector\n",
    "    #V2 is a [k2] vector\n",
    "    #returns a k1xk2 matrix\n",
    "    d = sqdists(v1, v2)\n",
    "    #return a*np.exp(-d**2/sigma)\n",
    "    return (1+np.sqrt(5)*d/sigma +5*d**2/(3*sigma**2))*np.exp(-np.sqrt(5)*d/sigma)\n",
    "\n",
    "@jit\n",
    "def exp(v1, v2, sigma):\n",
    "    #V1 is a [k1] vector\n",
    "    #V2 is a [k2] vector\n",
    "    #returns a k1xk2 matrix\n",
    "    d = dists(v1, v2)\n",
    "    return np.exp(-d/sigma)\n",
    "    #return (1+np.sqrt(5)*d/sigma +5*d**2/(3*sigma**2))*np.exp(-np.sqrt(5)*d/sigma)\n",
    "\n",
    "@jit\n",
    "def iq(v1, v2, sigma):\n",
    "    #V1 is a [k1] vector\n",
    "    #V2 is a [k2] vector\n",
    "    #returns a k1xk2 matrix\n",
    "    d = dists(v1, v2)\n",
    "    #return a*np.exp(-d**2/sigma)\n",
    "    #return (1+np.sqrt(5)*d/sigma +5*d**2/(3*sigma**2))*np.exp(-np.sqrt(5)*d/sigma)\n",
    "    return 1/np.sqrt(d+sigma)"
   ]
  },
  {
   "cell_type": "code",
   "execution_count": 10,
   "id": "e7afbc6e",
   "metadata": {},
   "outputs": [],
   "source": [
    "def aux(kernel, s, nugget):\n",
    "    k = kernel\n",
    "    Kxx = k(Xtr, Xtr, s)\n",
    "    nuggeted_matrix = Kxx.at[np.diag_indices_from(Kxx)].add(nugget)\n",
    "    L = cho_factor(nuggeted_matrix)\n",
    "    result = cho_solve(L, Ytr)\n",
    "    Train_pred = Kxx@result #train predictions\n",
    "    K_te_tr = k(Xtest, Xtr,s)\n",
    "    Test_pred = K_te_tr@result #test predictions\n",
    "\n",
    "    np.mean(np.linalg.norm(Ytr-Train_pred, axis = 1))\n",
    "\n",
    "    aux1 = np.mean(np.linalg.norm(Ytr-Train_pred, axis = 1))\n",
    "    aux2 = np.mean(np.linalg.norm(Train_pred-Ytr, axis = 1)/np.linalg.norm(Ytr, axis = 1))\n",
    "    aux3 = np.mean(np.linalg.norm(Ytest-Test_pred, axis = 1))\n",
    "    aux4 = np.mean(np.linalg.norm(Ytest-Test_pred, axis = 1)/np.linalg.norm(Ytest, axis = 1))\n",
    "    print(s, nugget)\n",
    "    print(\"\\n Train error (abs): {0} \\n Train error (rel): {1} \\n Test error (abs): {2} \\n Test error (rel): {3}\".format(aux1, aux2, aux3, aux4))\n",
    "    print('---')"
   ]
  },
  {
   "cell_type": "code",
   "execution_count": 12,
   "id": "978f3713",
   "metadata": {},
   "outputs": [
    {
     "name": "stdout",
     "output_type": "stream",
     "text": [
      "50000 1e-08\n",
      "\n",
      " Train error (abs): 0.0016342663422412745 \n",
      " Train error (rel): 3.011272706077225e-07 \n",
      " Test error (abs): 288.4922779165876 \n",
      " Test error (rel): 0.05185534694069363\n",
      "---\n"
     ]
    }
   ],
   "source": [
    "for kernel in [iq]:\n",
    "    for s in [50000]:\n",
    "        for nugget in [1e-8]:\n",
    "            aux(kernel, s, nugget)"
   ]
  },
  {
   "cell_type": "code",
   "execution_count": 13,
   "id": "7b5afa22",
   "metadata": {},
   "outputs": [],
   "source": [
    "Kxx = iq(Xtr, Xtr, 50000)\n",
    "nuggeted_matrix = Kxx.at[np.diag_indices_from(Kxx)].add(nugget)\n",
    "L = cho_factor(nuggeted_matrix)\n",
    "result = cho_solve(L, Ytr)\n",
    "Train_pred = Kxx@result #train predictions\n",
    "K_te_tr = iq(Xtest, Xtr,50000)\n",
    "Test_pred = K_te_tr@result #test predictions\n"
   ]
  },
  {
   "cell_type": "code",
   "execution_count": 14,
   "id": "2a2222a9",
   "metadata": {},
   "outputs": [],
   "source": [
    "import pickle"
   ]
  },
  {
   "cell_type": "code",
   "execution_count": 16,
   "id": "2310d023",
   "metadata": {},
   "outputs": [
    {
     "data": {
      "text/plain": [
       "1681"
      ]
     },
     "execution_count": 16,
     "metadata": {},
     "output_type": "execute_result"
    }
   ],
   "source": [
    "len(Ytest[42])"
   ]
  },
  {
   "cell_type": "code",
   "execution_count": 29,
   "id": "9db41738",
   "metadata": {},
   "outputs": [],
   "source": [
    "pickle.dump(obj=[Ytest[41], Test_pred[41]], file = open('PredictedSM.pkl', 'wb'))"
   ]
  },
  {
   "cell_type": "code",
   "execution_count": 27,
   "id": "9af297f6",
   "metadata": {},
   "outputs": [
    {
     "data": {
      "text/plain": [
       "DeviceArray(0.03921741, dtype=float64)"
      ]
     },
     "execution_count": 27,
     "metadata": {},
     "output_type": "execute_result"
    }
   ],
   "source": [
    "np.linalg.norm(Test_pred[41]-Ytest[41])/np.linalg.norm(Ytest[41])"
   ]
  },
  {
   "cell_type": "code",
   "execution_count": 28,
   "id": "b46a84fa",
   "metadata": {},
   "outputs": [
    {
     "data": {
      "text/plain": [
       "<matplotlib.colorbar.Colorbar at 0x7f7d103ade70>"
      ]
     },
     "execution_count": 28,
     "metadata": {},
     "output_type": "execute_result"
    },
    {
     "data": {
      "image/png": "[encoded data removed]",
      "text/plain": [
       "<Figure size 640x480 with 2 Axes>"
      ]
     },
     "metadata": {},
     "output_type": "display_data"
    }
   ],
   "source": [
    "plt.imshow(Test_pred[41].reshape(41,41)-Ytest[41].reshape(41,41))\n",
    "plt.colorbar()"
   ]
  },
  {
   "cell_type": "code",
   "execution_count": 14,
   "id": "2509f439",
   "metadata": {},
   "outputs": [],
   "source": [
    "grid = np.linspace(0,1,41)\n",
    "K_i = exp(grid, grid, sigma = 0.001)\n",
    "K_i = K_i.at[np.diag_indices_from(K_i)].add(1e-8)\n",
    "L_K = cholesky(K_i, lower = True)\n",
    "#K_o = exp(grid, grid, sigma = 3)\n",
    "#K_o = K_i.at[np.diag_indices_from(K_i)].add(1e-8)\n",
    "#L_G = cholesky(K_i, lower = False)\n",
    "#L_G_inv = np.linalg.inv(L_G)\n"
   ]
  },
  {
   "cell_type": "code",
   "execution_count": 15,
   "id": "f35a7a84",
   "metadata": {},
   "outputs": [
    {
     "data": {
      "text/plain": [
       "DeviceArray(4.02381579, dtype=float64)"
      ]
     },
     "execution_count": 15,
     "metadata": {},
     "output_type": "execute_result"
    }
   ],
   "source": [
    "np.linalg.norm(L_K-np.eye(len(L_K)))"
   ]
  },
  {
   "cell_type": "code",
   "execution_count": 21,
   "id": "ccdf25ed",
   "metadata": {},
   "outputs": [],
   "source": [
    "Inputs2 = L_K@Inputs_fl.T\n",
    "Outputs2 = Outputs_fl\n",
    "\n",
    "Xtr = Inputs2.T[:Ntrain]\n",
    "Ytr = Outputs2[:Ntrain]\n",
    "Xtest = Inputs2.T[20000:]\n",
    "Ytest = Outputs2[20000:]"
   ]
  },
  {
   "cell_type": "code",
   "execution_count": 22,
   "id": "92d74a5f",
   "metadata": {},
   "outputs": [
    {
     "name": "stdout",
     "output_type": "stream",
     "text": [
      "100000 1e-08\n",
      "\n",
      " Train error (abs): 0.00253774259137323 \n",
      " Train error (rel): 4.6931449889152285e-07 \n",
      " Test error (abs): 289.6629104175087 \n",
      " Test error (rel): 0.052100366603367344\n",
      "---\n"
     ]
    }
   ],
   "source": [
    "for kernel in [iq]:\n",
    "    for s in [100000]:\n",
    "        for nugget in [1e-8]:\n",
    "            aux(kernel, s, nugget)"
   ]
  },
  {
   "cell_type": "code",
   "execution_count": null,
   "id": "163d84bd",
   "metadata": {},
   "outputs": [],
   "source": []
  }
 ],
 "metadata": {
  "kernelspec": {
   "display_name": "Python 3 (ipykernel)",
   "language": "python",
   "name": "python3"
  },
  "language_info": {
   "codemirror_mode": {
    "name": "ipython",
    "version": 3
   },
   "file_extension": ".py",
   "mimetype": "text/x-python",
   "name": "python",
   "nbconvert_exporter": "python",
   "pygments_lexer": "ipython3",
   "version": "3.10.4"
  }
 },
 "nbformat": 4,
 "nbformat_minor": 5
}
