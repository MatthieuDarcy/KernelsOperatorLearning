{
 "cells": [
  {
   "cell_type": "code",
   "execution_count": 1,
   "id": "5ca7bac0",
   "metadata": {},
   "outputs": [],
   "source": [
    "import numpy as np\n",
    "import matplotlib.pyplot as plt\n",
    "from sklearn.decomposition import PCA\n",
    "from sklearn.linear_model import LinearRegression"
   ]
  },
  {
   "cell_type": "code",
   "execution_count": 2,
   "id": "16f05bdb",
   "metadata": {},
   "outputs": [
    {
     "data": {
      "text/plain": [
       "Text(0, 0.5, 'Test accuracy')"
      ]
     },
     "execution_count": 2,
     "metadata": {},
     "output_type": "execute_result"
    },
    {
     "data": {
      "image/png": "[encoded data removed]",
      "text/plain": [
       "<Figure size 432x288 with 1 Axes>"
      ]
     },
     "metadata": {},
     "output_type": "display_data"
    }
   ],
   "source": [
    "import pandas as pd\n",
    "\n",
    "PCANet = pd.read_csv(\"data/PCA_Helmhotz.csv\", header = None).to_numpy()\n",
    "DeepONet = pd.read_csv(\"data/DeepONet_Helmhotz.csv\", header = None).to_numpy()\n",
    "Para = pd.read_csv(\"data/PARA_Helmhotz.csv\", header = None).to_numpy()\n",
    "FNO = pd.read_csv(\"data/FNO_Helmhotz.csv\", header = None).to_numpy()\n",
    "\n",
    "#The columns = [Nexamples, network width, Train, Test]\n",
    "\n",
    "import seaborn as sns\n",
    "sns.set_style('darkgrid')\n",
    "\n",
    "#plt.plot(PCA[PCA[:,1] == 512][:,0], PCA[PCA[:,1] == 512][:, 3])\n",
    "plt.plot(PCANet[PCANet[:,1] == 512][:,0], PCANet[PCANet[:,1] == 512][:, 4],'-*', label = 'PCANet')\n",
    "plt.plot(DeepONet[DeepONet[:,1] == 512][:,0], DeepONet[DeepONet[:,1] == 512][:, 3],'-*', label = 'DeepONet')\n",
    "plt.plot(Para[Para[:,1] == 512][:,0], Para[Para[:,1] == 512][:, 3],'-*', label = 'ParaNet')\n",
    "plt.plot(FNO[FNO[:,1] == 32][:,0], FNO[FNO[:,1] == 32][:, 3],'-*', label = 'FNO')\n",
    "plt.legend()\n",
    "plt.xscale('log')\n",
    "plt.yscale('log')\n",
    "plt.xlabel('N_train')\n",
    "plt.ylabel('Test accuracy')"
   ]
  },
  {
   "cell_type": "code",
   "execution_count": 3,
   "id": "b79f068e",
   "metadata": {},
   "outputs": [
    {
     "data": {
      "text/plain": [
       "0.0173936465122038"
      ]
     },
     "execution_count": 3,
     "metadata": {},
     "output_type": "execute_result"
    }
   ],
   "source": [
    "np.min(FNO[FNO[:,1] == 32][-1, 3]) #Relative test error to beat"
   ]
  },
  {
   "cell_type": "code",
   "execution_count": 4,
   "id": "a989201f",
   "metadata": {},
   "outputs": [],
   "source": [
    "Inputs = np.load('data/Helmholtz_inputs.npy')\n",
    "Outputs = np.load('data/Helmholtz_outputs.npy')"
   ]
  },
  {
   "cell_type": "code",
   "execution_count": 5,
   "id": "7d27a7a7",
   "metadata": {},
   "outputs": [],
   "source": [
    "Inputs = Inputs.transpose((2,1,0))\n",
    "Outputs = Outputs.transpose((2,1,0))\n",
    "\n",
    "Inputs_fl = Inputs.reshape(len(Inputs), 101*101)\n",
    "Outputs_fl = Outputs.reshape(len(Outputs), 101*101)"
   ]
  },
  {
   "cell_type": "markdown",
   "id": "e74c76d7",
   "metadata": {},
   "source": [
    "First baseline: Linear regression.\n",
    "Results: 20000 128\n",
    "0.1044466455094357 0.10592320122914789\n"
   ]
  },
  {
   "cell_type": "code",
   "execution_count": 6,
   "id": "4c430294",
   "metadata": {
    "scrolled": true
   },
   "outputs": [],
   "source": [
    "# results = []\n",
    "# for Ntrain in [20000]:\n",
    "#     for N_components in [128]:\n",
    "#         print(Ntrain, N_components)\n",
    "#         Ytr = Outputs_fl[:Ntrain]\n",
    "#         Xtr = Inputs_fl[:Ntrain]\n",
    "#         pca = PCA(n_components=min(N_components,Ntrain))\n",
    "#         Xtr = pca.fit_transform(Xtr)\n",
    "#         reg = LinearRegression(n_jobs = -1).fit(Xtr, Ytr)\n",
    "#         #Ypred Ypredtr = reg.predict(Xtr)\n",
    "#         Ypredtr = reg.predict(Xtr)\n",
    "#         train_error = np.mean(np.linalg.norm(Ypredtr-Ytr, axis = 1)/np.linalg.norm(Ytr, axis = 1))\n",
    "#         Xtest = Inputs_fl[20000:]\n",
    "#         Ytest = Outputs_fl[20000:]\n",
    "#         Xtest = pca.transform(Xtest)\n",
    "#         Ypred = reg.predict(Xtest)\n",
    "#         test_error = np.mean(np.linalg.norm(Ypred-Ytest, axis = 1)/np.linalg.norm(Ytest, axis = 1))\n",
    "#         print(train_error, test_error)\n",
    "#         results.append([Ntrain, N_components, train_error, test_error])\n",
    "\n",
    "# results = np.array(results)"
   ]
  },
  {
   "cell_type": "markdown",
   "id": "73df6a15",
   "metadata": {},
   "source": [
    "GPR"
   ]
  },
  {
   "cell_type": "markdown",
   "id": "ba0dc2bd",
   "metadata": {},
   "source": [
    "There are 20000 training points, each of them is a 101x101 matrix that needs to be mapped to another 101x101 matrix. I can do (kernel?) PCA in the input and do each of the output GP regressions independently"
   ]
  },
  {
   "cell_type": "code",
   "execution_count": 8,
   "id": "4c61c49f",
   "metadata": {},
   "outputs": [],
   "source": [
    "from sklearn.metrics import pairwise_distances\n",
    "import numpy as onp\n",
    "import jax.numpy as np\n",
    "from jax import jit, vmap\n",
    "import matplotlib.pyplot as plt\n",
    "from tqdm.notebook import tqdm as t\n",
    "from ipywidgets import interact\n",
    "from scipy.linalg import cho_solve\n",
    "from jax import grad\n",
    "from jax.scipy.optimize import minimize\n",
    "from jax.config import config\n",
    "config.update(\"jax_enable_x64\", True)\n",
    "import jax\n",
    "from jax.scipy.linalg import cho_factor, cho_solve\n",
    "from jax.scipy.optimize import minimize\n",
    "from jaxopt import ProjectedGradient\n",
    "from jaxopt.projection import projection_box"
   ]
  },
  {
   "cell_type": "code",
   "execution_count": 9,
   "id": "15b89568",
   "metadata": {},
   "outputs": [],
   "source": [
    "#First, do PCA"
   ]
  },
  {
   "cell_type": "code",
   "execution_count": 10,
   "id": "32110819",
   "metadata": {},
   "outputs": [],
   "source": [
    "# Inputs_fl.shape\n",
    "\n",
    "# Xtr = Inputs_fl[:Ntrain]\n",
    "# pca = PCA(n_components=0.99)\n",
    "# Xtr = pca.fit_transform(Xtr)\n",
    "# #Xtr = np.load('helmpca99.npy')\n",
    "\n",
    "# Xte = pca.transform(Inputs_fl[Ntrain:])\n",
    "\n",
    "# np.save('helmpca99Tr.npy', Xtr)\n",
    "# np.save('helmpca99Te.npy', Xte)"
   ]
  },
  {
   "cell_type": "code",
   "execution_count": 11,
   "id": "f9087faf",
   "metadata": {},
   "outputs": [],
   "source": [
    "#95% of the variance is 16 components (!)\n",
    "#99% of the variance is 47 components, we will roll with that for now\n",
    "#np.save('helmpca99.npy', Xtr)"
   ]
  },
  {
   "cell_type": "code",
   "execution_count": 12,
   "id": "76b41123",
   "metadata": {},
   "outputs": [
    {
     "name": "stderr",
     "output_type": "stream",
     "text": [
      "WARNING:absl:No GPU/TPU found, falling back to CPU. (Set TF_CPP_MIN_LOG_LEVEL=0 and rerun for more info.)\n"
     ]
    }
   ],
   "source": [
    "Xtr = np.load('helmpca99Tr.npy')\n",
    "Xte = np.load('helmpca99Te.npy')\n",
    "Ytr= Outputs_fl[:20000]\n",
    "Yte = Outputs_fl[20000:]"
   ]
  },
  {
   "cell_type": "code",
   "execution_count": 13,
   "id": "4414f521",
   "metadata": {},
   "outputs": [],
   "source": [
    "# #Does linear regression lose performance when considering only the PCA proj? A bit, but not much\n",
    "# results = []\n",
    "# for Ntrain in [20000]:\n",
    "#         reg = LinearRegression(n_jobs = -1).fit(Xtr, Ytr)\n",
    "#         #Ypred Ypredtr = reg.predict(Xtr)\n",
    "#         Ypredtr = reg.predict(Xtr)\n",
    "#         train_error = np.mean(np.linalg.norm(Ypredtr-Ytr, axis = 1)/np.linalg.norm(Ytr, axis = 1))\n",
    "#         Ytest = Outputs_fl[20000:]\n",
    "#         Ypred = reg.predict(Xte)\n",
    "#         test_error = np.mean(np.linalg.norm(Ypred-Ytest, axis = 1)/np.linalg.norm(Ytest, axis = 1))\n",
    "#         print(train_error, test_error)"
   ]
  },
  {
   "cell_type": "markdown",
   "id": "e510e5fd",
   "metadata": {},
   "source": [
    "Gaussian process regression"
   ]
  },
  {
   "cell_type": "code",
   "execution_count": 14,
   "id": "4dc2092e",
   "metadata": {},
   "outputs": [],
   "source": [
    "#Let's keep it to 2000 points for now for prototyping"
   ]
  },
  {
   "cell_type": "code",
   "execution_count": 15,
   "id": "61128ef4",
   "metadata": {},
   "outputs": [],
   "source": [
    "Xtr = np.load('helmpca99Tr.npy')\n",
    "Xte = np.load('helmpca99Te.npy')\n",
    "Ytr= Outputs_fl[:20000]\n",
    "Yte = Outputs_fl[20000:]\n",
    "N = 2000\n",
    "Xtr = Xtr[:N]\n",
    "Xte = Xte[:N]\n",
    "Ytr = Ytr[:N,23]\n",
    "Yte = Yte[:N,23]"
   ]
  },
  {
   "cell_type": "code",
   "execution_count": 16,
   "id": "0796da58",
   "metadata": {},
   "outputs": [],
   "source": [
    "def sqeuclidean_distances(x: np.ndarray, y: np.ndarray) -> float:\n",
    "    return np.sum( (x - y) ** 2)\n",
    "dists = jit(vmap(vmap(sqeuclidean_distances, in_axes=(None, 0)), in_axes=(0, None)))\n",
    "\n",
    "def euclidean_distances(x: np.ndarray, y: np.ndarray) -> float:\n",
    "    return np.sqrt(np.sum( (x - y) ** 2))\n",
    "sqdists = jit(vmap(vmap(euclidean_distances, in_axes=(None, 0)), in_axes=(0, None)))\n",
    "\n",
    "\n",
    "@jit\n",
    "def matern(v1, v2, sigma = 50):\n",
    "    #V1 is a [k1] vector\n",
    "    #V2 is a [k2] vector\n",
    "    #returns a k1xk2 matrix\n",
    "    d = sqdists(v1, v2)\n",
    "    #return a*np.exp(-d**2/sigma)\n",
    "    return (1+np.sqrt(5)*d/sigma +5*d**2/(3*sigma**2))*np.exp(-np.sqrt(5)*d/sigma)\n",
    "\n",
    "@jit\n",
    "def exp(v1, v2, sigma):\n",
    "    #V1 is a [k1] vector\n",
    "    #V2 is a [k2] vector\n",
    "    #returns a k1xk2 matrix\n",
    "    d = dists(v1, v2)\n",
    "    return np.exp(-d/sigma)\n",
    "    #return (1+np.sqrt(5)*d/sigma +5*d**2/(3*sigma**2))*np.exp(-np.sqrt(5)*d/sigma)\n",
    "\n",
    "\n",
    "@jit\n",
    "def k(v1, v2, sigma):\n",
    "    #V1 is a [k1] vector\n",
    "    #V2 is a [k2] vector\n",
    "    #returns a k1xk2 matrix\n",
    "    d = dists(v1, v2)\n",
    "    #return a*np.exp(-d**2/sigma)\n",
    "    #return (1+np.sqrt(5)*d/sigma +5*d**2/(3*sigma**2))*np.exp(-np.sqrt(5)*d/sigma)\n",
    "    return 1/np.sqrt(d+sigma)"
   ]
  },
  {
   "cell_type": "code",
   "execution_count": 17,
   "id": "7a4680ad",
   "metadata": {},
   "outputs": [],
   "source": [
    "s = 200\n",
    "nugget = 1e-8\n",
    "Kxx = k(Xtr,Xtr, s)\n",
    "nuggeted_matrix = Kxx+nugget*np.eye(len(Kxx))\n",
    "Train_pred = Kxx@np.linalg.solve(nuggeted_matrix, Ytr) #train predictions\n",
    "\n",
    "K_te_tr = k(Xte, Xtr,s)\n",
    "Test_pred = K_te_tr@np.linalg.solve(nuggeted_matrix, Ytr) #test predictions\n",
    "\n",
    "\n",
    "aux1 = np.mean(np.linalg.norm(Ytr-Train_pred))\n",
    "aux2 = np.mean(np.linalg.norm(Train_pred-Ytr)/np.linalg.norm(Ytr))\n",
    "aux3 = np.mean(np.linalg.norm(Yte-Test_pred))\n",
    "aux4 = np.mean(np.linalg.norm(Yte-Test_pred)/np.linalg.norm(Yte))\n",
    "print(\"\\n Train error (abs): {0} \\n Train error (rel): {1} \\n Test error (abs): {2} \\n Test error (rel): {3}\".format(aux1, aux2, aux3, aux4))"
   ]
  },
  {
   "cell_type": "code",
   "execution_count": 57,
   "id": "e7864ff6",
   "metadata": {},
   "outputs": [
    {
     "data": {
      "text/plain": [
       "DeviceArray(0.68860764, dtype=float64)"
      ]
     },
     "execution_count": 57,
     "metadata": {},
     "output_type": "execute_result"
    }
   ],
   "source": [
    "np.linalg.norm(Lx-np.eye(len(Lx)))"
   ]
  },
  {
   "cell_type": "code",
   "execution_count": 25,
   "id": "12565aee",
   "metadata": {},
   "outputs": [],
   "source": [
    "Lx = np.linalg.cholesky(exp(Xtr, Xtr, 5)+1e-8*np.eye(len(Xtr)))\n",
    "Ly = np.linalg.cholesky(exp(Ytr, Ytr, 0.1)+1e-8*np.eye(len(Xtr)))\n",
    "\n",
    "Xtrn = Lx.T@Xtr\n",
    "Xten = Lx.T@Xte\n",
    "Ytrn = Ytr\n",
    "Yten = Yte"
   ]
  },
  {
   "cell_type": "code",
   "execution_count": 26,
   "id": "585536d8",
   "metadata": {},
   "outputs": [
    {
     "name": "stdout",
     "output_type": "stream",
     "text": [
      "\n",
      " Train error (abs): 1.0627638914770924e-06 \n",
      " Train error (rel): 2.1186909005341836e-06 \n",
      " Test error (abs): 0.07178035292688127 \n",
      " Test error (rel): 0.14098873798670944\n"
     ]
    }
   ],
   "source": [
    "s = 200\n",
    "nugget = 1e-8\n",
    "Kxx = k(Xtrn,Xtrn, s)\n",
    "nuggeted_matrix = Kxx+nugget*np.eye(len(Kxx))\n",
    "Train_pred = Kxx@np.linalg.solve(nuggeted_matrix, Ytrn) #train predictions\n",
    "K_te_tr = k(Xten, Xtrn,s)\n",
    "Test_pred = K_te_tr@np.linalg.solve(nuggeted_matrix, Ytrn) #test predictions\n",
    "\n",
    "aux1 = np.mean(np.linalg.norm(Ytrn-Train_pred))\n",
    "aux2 = np.mean(np.linalg.norm(Train_pred-Ytrn)/np.linalg.norm(Ytrn))\n",
    "aux3 = np.mean(np.linalg.norm(Yten-Test_pred))\n",
    "aux4 = np.mean(np.linalg.norm(Yten-Test_pred)/np.linalg.norm(Yten))\n",
    "print(\"\\n Train error (abs): {0} \\n Train error (rel): {1} \\n Test error (abs): {2} \\n Test error (rel): {3}\".format(aux1, aux2, aux3, aux4))"
   ]
  },
  {
   "cell_type": "code",
   "execution_count": 19,
   "id": "a08605ab",
   "metadata": {},
   "outputs": [
    {
     "data": {
      "text/plain": [
       "DeviceArray(-398.19052375, dtype=float64)"
      ]
     },
     "execution_count": 19,
     "metadata": {},
     "output_type": "execute_result"
    }
   ],
   "source": [
    "minus_log_lik(15)"
   ]
  },
  {
   "cell_type": "code",
   "execution_count": 18,
   "id": "3dd43bc8",
   "metadata": {},
   "outputs": [],
   "source": [
    "@jit\n",
    "def minus_log_lik(w, nugget = 1e-10):\n",
    "    sigma = w\n",
    "    #points, values are defined globally\n",
    "    Kxx = k(Xtr, Xtr, sigma)\n",
    "    cho = cho_factor(Kxx + nugget*np.eye(len(Kxx)))\n",
    "    Kxxinvy = cho_solve(cho, Ytr)\n",
    "    return 1/2 * np.dot(Ytr, Kxxinvy) + np.sum(np.log(np.diag(cho[0]))) + N*np.log(2*np.pi)/2"
   ]
  },
  {
   "cell_type": "code",
   "execution_count": 99,
   "id": "6477d42b",
   "metadata": {},
   "outputs": [],
   "source": [
    "pg = ProjectedGradient(minus_log_lik, projection_box, stepsize=1)\n",
    "result = pg.run(np.array([3.0]), hyperparams_proj=[1, 10])"
   ]
  },
  {
   "cell_type": "code",
   "execution_count": 88,
   "id": "61efdd0c",
   "metadata": {},
   "outputs": [
    {
     "data": {
      "text/plain": [
       "(2000, 10201)"
      ]
     },
     "execution_count": 88,
     "metadata": {},
     "output_type": "execute_result"
    }
   ],
   "source": [
    "conditional_mean.shape"
   ]
  },
  {
   "cell_type": "code",
   "execution_count": null,
   "id": "017b8b73",
   "metadata": {},
   "outputs": [],
   "source": [
    "Ypredtr = model.predict(Xtr)\n",
    "train_error = np.mean(np.linalg.norm(Ypredtr-Ytr, axis = 1)/np.linalg.norm(Ytr, axis = 1))\n",
    "Xtest = Inputs_fl[20000:]\n",
    "Ytest = Outputs_fl[20000:, 0]\n",
    "Xtest = pca.transform(Xtest)\n",
    "Ypred= model.predict(Xtest)\n",
    "test_error = np.mean(np.linalg.norm(Ypred-Ytest, axis = 1)/np.linalg.norm(Ytest, axis = 1))\n"
   ]
  },
  {
   "cell_type": "code",
   "execution_count": 36,
   "id": "d03ff727",
   "metadata": {},
   "outputs": [
    {
     "data": {
      "text/plain": [
       "DeviceArray([[ -2.77115609,  -8.58676179,   8.72510747, ...,\n",
       "               -0.11142542,   0.34297318,  -0.21757344],\n",
       "             [-10.52210949,  -3.11213512,  -1.3363005 , ...,\n",
       "                0.22869471,  -0.103262  ,  -0.2298788 ],\n",
       "             [ -3.04186315,  -7.91624238,  -3.73750711, ...,\n",
       "               -0.1110452 ,   0.05657988,   0.02523442],\n",
       "             ...,\n",
       "             [  1.56874584,  -3.42762138,   0.08303753, ...,\n",
       "               -0.19135447,  -0.13691135,   0.20932283],\n",
       "             [  0.4100681 ,  -3.00188211,  -8.04930931, ...,\n",
       "                0.33842405,   0.37900876,   0.19135342],\n",
       "             [  4.49437184,  -6.96614508,   7.46132592, ...,\n",
       "                0.22172341,   0.0624004 ,   0.02216762]], dtype=float64)"
      ]
     },
     "execution_count": 36,
     "metadata": {},
     "output_type": "execute_result"
    }
   ],
   "source": [
    "Xtr"
   ]
  },
  {
   "cell_type": "code",
   "execution_count": 217,
   "id": "eecfb3f4",
   "metadata": {},
   "outputs": [
    {
     "name": "stderr",
     "output_type": "stream",
     "text": [
      "/home/pau/anaconda3/envs/jax/lib/python3.10/site-packages/sklearn/gaussian_process/kernels.py:430: ConvergenceWarning: The optimal value found for dimension 0 of parameter k1__k2__length_scale is close to the specified upper bound 100000.0. Increasing the bound and calling fit again may find a better value.\n",
      "  warnings.warn(\n",
      "/home/pau/anaconda3/envs/jax/lib/python3.10/site-packages/sklearn/gaussian_process/kernels.py:420: ConvergenceWarning: The optimal value found for dimension 0 of parameter k2__alpha is close to the specified lower bound 1e-05. Decreasing the bound and calling fit again may find a better value.\n",
      "  warnings.warn(\n",
      "/home/pau/anaconda3/envs/jax/lib/python3.10/site-packages/sklearn/gaussian_process/kernels.py:430: ConvergenceWarning: The optimal value found for dimension 0 of parameter k2__length_scale is close to the specified upper bound 100000.0. Increasing the bound and calling fit again may find a better value.\n",
      "  warnings.warn(\n"
     ]
    },
    {
     "name": "stdout",
     "output_type": "stream",
     "text": [
      "\n",
      " Train error (abs): 3.940204645103547e-06 \n",
      " Train error (rel): 7.855061500274305e-06 \n",
      " Test error (abs): 0.06288630665142021 \n",
      " Test error (rel): 0.12351932875644292\n"
     ]
    }
   ],
   "source": [
    "from sklearn.gaussian_process import GaussianProcessRegressor\n",
    "from sklearn.gaussian_process.kernels import Matern, RBF, RationalQuadratic\n",
    "\n",
    "kernel = Matern() + RBF() + RationalQuadratic()\n",
    "\n",
    "resultsgp = []\n",
    "model = GaussianProcessRegressor(kernel, alpha = 1e-10)\n",
    "model.fit(Xtr, Ytr)\n",
    "Train_pred = model.predict(Xtr)\n",
    "Test_pred = model.predict(Xte)\n",
    "aux1 = np.mean(np.linalg.norm(Ytr-Train_pred))\n",
    "aux2 = np.mean(np.linalg.norm(Train_pred-Ytr)/np.linalg.norm(Ytr))\n",
    "aux3 = np.mean(np.linalg.norm(Yte-Test_pred))\n",
    "aux4 = np.mean(np.linalg.norm(Yte-Test_pred)/np.linalg.norm(Yte))\n",
    "print(\"\\n Train error (abs): {0} \\n Train error (rel): {1} \\n Test error (abs): {2} \\n Test error (rel): {3}\".format(aux1, aux2, aux3, aux4))"
   ]
  },
  {
   "cell_type": "code",
   "execution_count": 214,
   "id": "32454124",
   "metadata": {},
   "outputs": [],
   "source": [
    "Lx = np.linalg.cholesky(k(Xtr, Xtr, 10)+1e-8*np.eye(len(Xtr)))\n",
    "Ly = np.linalg.cholesky(k(Ytr, Ytr, 10)+1e-8*np.eye(len(Xtr)))\n",
    "\n",
    "Xtrn = Lx.T@Xtr\n",
    "Xten = Lx.T@Xte\n",
    "Ytrn = Ly.T@Ytr\n",
    "Yten = Ly.T@Yte"
   ]
  },
  {
   "cell_type": "code",
   "execution_count": 216,
   "id": "c38ef2e5",
   "metadata": {},
   "outputs": [
    {
     "name": "stderr",
     "output_type": "stream",
     "text": [
      "/home/pau/anaconda3/envs/jax/lib/python3.10/site-packages/sklearn/gaussian_process/kernels.py:430: ConvergenceWarning: The optimal value found for dimension 0 of parameter k1__k1__length_scale is close to the specified upper bound 100000.0. Increasing the bound and calling fit again may find a better value.\n",
      "  warnings.warn(\n"
     ]
    },
    {
     "name": "stdout",
     "output_type": "stream",
     "text": [
      "\n",
      " Train error (abs): 4.169801619262345e-05 \n",
      " Train error (rel): 4.938201621010204e-06 \n",
      " Test error (abs): 8.769342449972111 \n",
      " Test error (rel): 1.000224506498347\n"
     ]
    }
   ],
   "source": [
    "from sklearn.gaussian_process import GaussianProcessRegressor\n",
    "from sklearn.gaussian_process.kernels import Matern, RBF, RationalQuadratic\n",
    "\n",
    "kernel = Matern() + RBF() + RationalQuadratic()\n",
    "\n",
    "resultsgp = []\n",
    "model = GaussianProcessRegressor(kernel, alpha = 1e-10)\n",
    "model.fit(Xtrn, Ytrn)\n",
    "Train_pred = model.predict(Xtrn)\n",
    "Test_pred = model.predict(Xten)\n",
    "aux1 = np.mean(np.linalg.norm(Ytrn-Train_pred))\n",
    "aux2 = np.mean(np.linalg.norm(Train_pred-Ytrn)/np.linalg.norm(Ytrn))\n",
    "aux3 = np.mean(np.linalg.norm(Yten-Test_pred))\n",
    "aux4 = np.mean(np.linalg.norm(Yten-Test_pred)/np.linalg.norm(Yten))\n",
    "print(\"\\n Train error (abs): {0} \\n Train error (rel): {1} \\n Test error (abs): {2} \\n Test error (rel): {3}\".format(aux1, aux2, aux3, aux4))"
   ]
  }
 ],
 "metadata": {
  "kernelspec": {
   "display_name": "Python 3 (ipykernel)",
   "language": "python",
   "name": "python3"
  },
  "language_info": {
   "codemirror_mode": {
    "name": "ipython",
    "version": 3
   },
   "file_extension": ".py",
   "mimetype": "text/x-python",
   "name": "python",
   "nbconvert_exporter": "python",
   "pygments_lexer": "ipython3",
   "version": "3.10.4"
  }
 },
 "nbformat": 4,
 "nbformat_minor": 5
}
