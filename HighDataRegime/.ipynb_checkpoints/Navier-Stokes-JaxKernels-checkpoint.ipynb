{
 "cells": [
  {
   "cell_type": "code",
   "execution_count": 1,
   "id": "5ca7bac0",
   "metadata": {},
   "outputs": [],
   "source": [
    "import matplotlib.pyplot as plt\n",
    "from sklearn.decomposition import PCA\n",
    "from sklearn.linear_model import LinearRegression\n",
    "from sklearn.metrics import pairwise_distances\n",
    "import numpy as onp\n",
    "import jax.numpy as np\n",
    "from jax import jit, vmap\n",
    "import matplotlib.pyplot as plt\n",
    "from tqdm.notebook import tqdm as t\n",
    "from ipywidgets import interact\n",
    "from jax import grad\n",
    "from jax.scipy.optimize import minimize\n",
    "from jax.config import config\n",
    "config.update(\"jax_enable_x64\", True)\n",
    "import jax\n",
    "from jax.scipy.linalg import cholesky, cho_factor, cho_solve\n",
    "from jax.scipy.optimize import minimize\n",
    "from jaxopt import ProjectedGradient\n",
    "from jaxopt.projection import projection_box\n",
    "\n",
    "import pandas as pd"
   ]
  },
  {
   "cell_type": "code",
   "execution_count": 2,
   "id": "100fc64e",
   "metadata": {},
   "outputs": [],
   "source": [
    "import pandas as pd"
   ]
  },
  {
   "cell_type": "code",
   "execution_count": 3,
   "id": "1a79b907",
   "metadata": {},
   "outputs": [],
   "source": [
    "PCANet = pd.read_csv(\"data/PCA_NS.csv\", header = None).to_numpy()\n",
    "DeepONet = pd.read_csv(\"data/DeepONet_NS.csv\", header = None).to_numpy()\n",
    "Para = pd.read_csv(\"data/PARA_NS.csv\", header = None).to_numpy()\n",
    "FNO = pd.read_csv(\"data/FNO_NS.csv\", header = None).to_numpy()"
   ]
  },
  {
   "cell_type": "code",
   "execution_count": 4,
   "id": "4bf4febc",
   "metadata": {},
   "outputs": [
    {
     "data": {
      "text/plain": [
       "(DeviceArray(0.02654266, dtype=float64),\n",
       " DeviceArray(0.00259586, dtype=float64),\n",
       " DeviceArray(0.03629472, dtype=float64),\n",
       " DeviceArray(0.04088747, dtype=float64))"
      ]
     },
     "execution_count": 4,
     "metadata": {},
     "output_type": "execute_result"
    }
   ],
   "source": [
    "np.min(PCANet[:,4]), np.min(FNO[:,4]), np.min(DeepONet[:, 4]), np.min(Para[:, 4])"
   ]
  },
  {
   "cell_type": "code",
   "execution_count": 5,
   "id": "6c5e4ba4",
   "metadata": {},
   "outputs": [],
   "source": [
    "#The columns = [Nexamples, network width, Train, Test]"
   ]
  },
  {
   "cell_type": "code",
   "execution_count": 6,
   "id": "a989201f",
   "metadata": {},
   "outputs": [],
   "source": [
    "Inputs = np.load('data/NavierStokes_inputs.npy')\n",
    "Outputs = np.load('data/NavierStokes_outputs.npy')"
   ]
  },
  {
   "cell_type": "code",
   "execution_count": 7,
   "id": "2f967df0",
   "metadata": {
    "scrolled": true
   },
   "outputs": [
    {
     "data": {
      "text/plain": [
       "(64, 64, 40000)"
      ]
     },
     "execution_count": 7,
     "metadata": {},
     "output_type": "execute_result"
    }
   ],
   "source": [
    "Inputs.shape"
   ]
  },
  {
   "cell_type": "code",
   "execution_count": 8,
   "id": "7d27a7a7",
   "metadata": {},
   "outputs": [],
   "source": [
    "Inputs = Inputs.transpose((2,1,0))\n",
    "Outputs = Outputs.transpose((2,1,0))\n",
    "\n",
    "Inputs_fl = Inputs.reshape(len(Inputs), 64*64)\n",
    "Outputs_fl = Outputs.reshape(len(Outputs), 64*64)"
   ]
  },
  {
   "cell_type": "markdown",
   "id": "e74c76d7",
   "metadata": {},
   "source": [
    "Linear regression"
   ]
  },
  {
   "cell_type": "code",
   "execution_count": 9,
   "id": "4c430294",
   "metadata": {
    "scrolled": false
   },
   "outputs": [
    {
     "name": "stdout",
     "output_type": "stream",
     "text": [
      "20000 128\n",
      "0.053725325383721885 0.054129107629736904\n",
      "20000 256\n",
      "0.053724771853986414 0.0541287837480367\n",
      "20000 512\n",
      "0.053725442394692256 0.054128941233027035\n",
      "20000 1024\n",
      "0.05372536128518232 0.0541288361220119\n"
     ]
    }
   ],
   "source": [
    "results = []\n",
    "for Ntrain in [20000]:\n",
    "    for N_components in [128, 256, 512, 1024]:\n",
    "        print(Ntrain, N_components)\n",
    "        Ytr = Outputs_fl[:Ntrain]\n",
    "        Xtr = Inputs_fl[:Ntrain]\n",
    "        pca = PCA(n_components=min(N_components,Ntrain))\n",
    "        Xtr = pca.fit_transform(Xtr)\n",
    "        reg = LinearRegression(n_jobs = -1).fit(Xtr, Ytr)\n",
    "        #Ypred Ypredtr = reg.predict(Xtr)\n",
    "        Ypredtr = reg.predict(Xtr)\n",
    "        train_error = np.mean(np.linalg.norm(Ypredtr-Ytr, axis = 1)/np.linalg.norm(Ytr, axis = 1))\n",
    "        Xtest = Inputs_fl[20000:]\n",
    "        Ytest = Outputs_fl[20000:]\n",
    "        Xtest = pca.transform(Xtest)\n",
    "        Ypred = reg.predict(Xtest)\n",
    "        test_error = np.mean(np.linalg.norm(Ypred-Ytest, axis = 1)/np.linalg.norm(Ytest, axis = 1))\n",
    "        print(train_error, test_error)\n",
    "        results.append([Ntrain, N_components, train_error, test_error])\n",
    "\n",
    "results = np.array(results)"
   ]
  },
  {
   "cell_type": "markdown",
   "id": "d5235802",
   "metadata": {},
   "source": [
    "GP regression"
   ]
  },
  {
   "cell_type": "code",
   "execution_count": 10,
   "id": "eecfb3f4",
   "metadata": {},
   "outputs": [],
   "source": [
    "# from sklearn.gaussian_process import GaussianProcessRegressor\n",
    "# from sklearn.gaussian_process.kernels import Matern, RBF, RationalQuadratic\n",
    "\n",
    "# kernel = Matern(nu = 2.5)\n",
    "\n",
    "# Xtr.shape\n",
    "\n",
    "# resultsgp = []\n",
    "# for Ntrain in [156, 312, 624, 1250, 2500]:\n",
    "#     print(Ntrain)\n",
    "#     Ytr = Outputs_fl[:Ntrain]\n",
    "#     Xtr = Inputs_fl[:Ntrain]\n",
    "#     pca = PCA(n_components=128)\n",
    "#     Xtr = pca.fit_transform(Xtr)\n",
    "    \n",
    "#     model = GaussianProcessRegressor(kernel, alpha = 1e-10)\n",
    "#     model.fit(Xtr, Ytr)\n",
    "#     #Ypred Ypredtr = reg.predict(Xtr)\n",
    "#     Ypredtr = model.predict(Xtr)\n",
    "#     train_error = np.mean(np.linalg.norm(Ypredtr-Ytr, axis = 1)/np.linalg.norm(Ytr, axis = 1))\n",
    "#     Xtest = Inputs_fl[20000:]\n",
    "#     Ytest = Outputs_fl[20000:]\n",
    "#     Xtest = pca.transform(Xtest)\n",
    "#     Ypred= model.predict(Xtest)\n",
    "#     test_error = np.mean(np.linalg.norm(Ypred-Ytest, axis = 1)/np.linalg.norm(Ytest, axis = 1))\n",
    "#     print(train_error, test_error)\n",
    "#     resultsgp.append([Ntrain, train_error, test_error])"
   ]
  },
  {
   "cell_type": "code",
   "execution_count": 11,
   "id": "35530bd5",
   "metadata": {},
   "outputs": [],
   "source": [
    "#Jax regression"
   ]
  },
  {
   "cell_type": "code",
   "execution_count": 12,
   "id": "74327ec9",
   "metadata": {},
   "outputs": [],
   "source": [
    "def sqeuclidean_distances(x: np.ndarray, y: np.ndarray) -> float:\n",
    "    return np.sum( (x - y) ** 2)\n",
    "dists = jit(vmap(vmap(sqeuclidean_distances, in_axes=(None, 0)), in_axes=(0, None)))\n",
    "\n",
    "def euclidean_distances(x: np.ndarray, y: np.ndarray) -> float:\n",
    "    return np.sqrt(np.sum( (x - y) ** 2))\n",
    "sqdists = jit(vmap(vmap(euclidean_distances, in_axes=(None, 0)), in_axes=(0, None)))\n",
    "\n",
    "\n",
    "@jit\n",
    "def matern(v1, v2, sigma = 50):\n",
    "    #V1 is a [k1] vector\n",
    "    #V2 is a [k2] vector\n",
    "    #returns a k1xk2 matrix\n",
    "    d = sqdists(v1, v2)\n",
    "    #return a*np.exp(-d**2/sigma)\n",
    "    return (1+np.sqrt(5)*d/sigma +5*d**2/(3*sigma**2))*np.exp(-np.sqrt(5)*d/sigma)\n",
    "\n",
    "@jit\n",
    "def exp(v1, v2, sigma):\n",
    "    #V1 is a [k1] vector\n",
    "    #V2 is a [k2] vector\n",
    "    #returns a k1xk2 matrix\n",
    "    d = dists(v1, v2)\n",
    "    return np.exp(-d/sigma)\n",
    "    #return (1+np.sqrt(5)*d/sigma +5*d**2/(3*sigma**2))*np.exp(-np.sqrt(5)*d/sigma)\n",
    "\n",
    "@jit\n",
    "def iq(v1, v2, sigma):\n",
    "    #V1 is a [k1] vector\n",
    "    #V2 is a [k2] vector\n",
    "    #returns a k1xk2 matrix\n",
    "    d = dists(v1, v2)\n",
    "    #return a*np.exp(-d**2/sigma)\n",
    "    #return (1+np.sqrt(5)*d/sigma +5*d**2/(3*sigma**2))*np.exp(-np.sqrt(5)*d/sigma)\n",
    "    return 1/np.sqrt(d+sigma)"
   ]
  },
  {
   "cell_type": "code",
   "execution_count": 13,
   "id": "c53c7c21",
   "metadata": {},
   "outputs": [],
   "source": [
    "Ntrain = 20000\n",
    "n_components = 128"
   ]
  },
  {
   "cell_type": "code",
   "execution_count": 18,
   "id": "5dc9353e",
   "metadata": {},
   "outputs": [],
   "source": [
    "Ytr = Outputs_fl[:Ntrain]\n",
    "Xtr = Inputs_fl[:Ntrain]\n",
    "pca = PCA(n_components=128)\n",
    "Xtr = pca.fit_transform(Xtr)\n",
    "Xtest = pca.transform(Inputs_fl[20000:])\n",
    "Ytest = Outputs_fl[20000:]"
   ]
  },
  {
   "cell_type": "code",
   "execution_count": 19,
   "id": "155103cb",
   "metadata": {},
   "outputs": [],
   "source": [
    "def aux(kernel, s, nugget):\n",
    "    k = kernel\n",
    "    Kxx = k(Xtr, Xtr, s)\n",
    "    nuggeted_matrix = Kxx.at[np.diag_indices_from(Kxx)].add(nugget)\n",
    "    L = cho_factor(nuggeted_matrix)\n",
    "    result = cho_solve(L, Ytr)\n",
    "    Train_pred = Kxx@result #train predictions\n",
    "    K_te_tr = k(Xtest, Xtr,s)\n",
    "    Test_pred = K_te_tr@result #test predictions\n",
    "\n",
    "    np.mean(np.linalg.norm(Ytr-Train_pred, axis = 1))\n",
    "\n",
    "    aux1 = np.mean(np.linalg.norm(Ytr-Train_pred, axis = 1))\n",
    "    aux2 = np.mean(np.linalg.norm(Train_pred-Ytr, axis = 1)/np.linalg.norm(Ytr, axis = 1))\n",
    "    aux3 = np.mean(np.linalg.norm(Ytest-Test_pred, axis = 1))\n",
    "    aux4 = np.mean(np.linalg.norm(Ytest-Test_pred, axis = 1)/np.linalg.norm(Ytest, axis = 1))\n",
    "    print(s, nugget)\n",
    "    print(\"\\n Train error (abs): {0} \\n Train error (rel): {1} \\n Test error (abs): {2} \\n Test error (rel): {3}\".format(aux1, aux2, aux3, aux4))\n",
    "    print('---')"
   ]
  },
  {
   "cell_type": "code",
   "execution_count": null,
   "id": "5eeda8a0",
   "metadata": {},
   "outputs": [
    {
     "name": "stdout",
     "output_type": "stream",
     "text": [
      "5 1e-08\n",
      "\n",
      " Train error (abs): 7.276826403528763e-06 \n",
      " Train error (rel): 3.089005917986685e-06 \n",
      " Test error (abs): 0.003665024745308938 \n",
      " Test error (rel): 0.0014081518995192623\n",
      "---\n",
      "10 1e-08\n",
      "\n",
      " Train error (abs): 7.200404681824904e-05 \n",
      " Train error (rel): 3.03446390315076e-05 \n",
      " Test error (abs): 0.003295011932480988 \n",
      " Test error (rel): 0.0012717308826757372\n",
      "---\n",
      "20 1e-08\n",
      "\n",
      " Train error (abs): 0.0005751168230804549 \n",
      " Train error (rel): 0.00023795777145700368 \n",
      " Test error (abs): 0.0035589315715148133 \n",
      " Test error (rel): 0.0013742244965366688\n",
      "---\n",
      "40 1e-08\n",
      "\n",
      " Train error (abs): 0.002571595017334048 \n",
      " Train error (rel): 0.0010307540462265849 \n",
      " Test error (abs): 0.0054430767479309895 \n",
      " Test error (rel): 0.002097828483297336\n",
      "---\n",
      "80 1e-08\n",
      "\n",
      " Train error (abs): 0.00710162282967508 \n",
      " Train error (rel): 0.002775712637816118 \n",
      " Test error (abs): 0.010035304873628978 \n",
      " Test error (rel): 0.003849685796999607\n",
      "---\n",
      "100 1e-08\n"
     ]
    }
   ],
   "source": [
    "for kernel in [iq, matern]:\n",
    "    for s in [5, 10, 20, 40, 80, 100]:\n",
    "        for nugget in [1e-8]:\n",
    "            aux(kernel, s, nugget)"
   ]
  },
  {
   "cell_type": "code",
   "execution_count": 41,
   "id": "d148ef50",
   "metadata": {},
   "outputs": [
    {
     "name": "stdout",
     "output_type": "stream",
     "text": [
      "5 1e-08\n",
      "\n",
      " Train error (abs): 7.276826314842877e-06 \n",
      " Train error (rel): 3.089005883597936e-06 \n",
      " Test error (abs): 0.0036650247452169396 \n",
      " Test error (rel): 0.001408151899488941\n",
      "---\n",
      "10 1e-08\n",
      "\n",
      " Train error (abs): 7.200404742330143e-05 \n",
      " Train error (rel): 3.0344639302522636e-05 \n",
      " Test error (abs): 0.003295011932740077 \n",
      " Test error (rel): 0.0012717308827894362\n",
      "---\n",
      "20 1e-08\n",
      "\n",
      " Train error (abs): 0.0005751168252746178 \n",
      " Train error (rel): 0.00023795777233394865 \n",
      " Test error (abs): 0.003558931576589692 \n",
      " Test error (rel): 0.0013742244987143153\n",
      "---\n",
      "40 1e-08\n",
      "\n",
      " Train error (abs): 0.0025715950223758775 \n",
      " Train error (rel): 0.0010307540484672058 \n",
      " Test error (abs): 0.005443076746567158 \n",
      " Test error (rel): 0.002097828482226641\n",
      "---\n",
      "80 1e-08\n",
      "\n",
      " Train error (abs): 0.007101622836243661 \n",
      " Train error (rel): 0.0027757126412045426 \n",
      " Test error (abs): 0.010035304870783596 \n",
      " Test error (rel): 0.003849685796898841\n",
      "---\n",
      "100 1e-08\n",
      "\n",
      " Train error (abs): 0.008777021698441391 \n",
      " Train error (rel): 0.0034134716017403914 \n",
      " Test error (abs): 0.011648809706353166 \n",
      " Test error (rel): 0.00446285613578873\n",
      "---\n",
      "5 1e-08\n",
      "\n",
      " Train error (abs): 1.8680382227438588e-05 \n",
      " Train error (rel): 7.715601158446827e-06 \n",
      " Test error (abs): 0.004082134181028857 \n",
      " Test error (rel): 0.0015439475541831824\n",
      "---\n",
      "10 1e-08\n",
      "\n",
      " Train error (abs): 0.0004593451867777649 \n",
      " Train error (rel): 0.00018792238790783902 \n",
      " Test error (abs): 0.004298729724052864 \n",
      " Test error (rel): 0.0016312560985817922\n",
      "---\n",
      "20 1e-08\n",
      "\n",
      " Train error (abs): 0.00441939982350507 \n",
      " Train error (rel): 0.001732601979238959 \n",
      " Test error (abs): 0.007564911314853524 \n",
      " Test error (rel): 0.0028775780601858606\n",
      "---\n",
      "40 1e-08\n",
      "\n",
      " Train error (abs): 0.011935068497307105 \n",
      " Train error (rel): 0.004609202332044532 \n",
      " Test error (abs): 0.014018198868345053 \n",
      " Test error (rel): 0.005357200943388285\n",
      "---\n",
      "80 1e-08\n",
      "\n",
      " Train error (abs): 0.028390596741171125 \n",
      " Train error (rel): 0.011160969489161255 \n",
      " Test error (abs): 0.029991121530365435 \n",
      " Test error (rel): 0.011725741509377191\n",
      "---\n",
      "100 1e-08\n",
      "\n",
      " Train error (abs): 0.04295939242209847 \n",
      " Train error (rel): 0.016883225497084167 \n",
      " Test error (abs): 0.044632569692721974 \n",
      " Test error (rel): 0.017459576399767546\n",
      "---\n"
     ]
    }
   ],
   "source": [
    "for kernel in [iq, matern]:\n",
    "    for s in [5, 10, 20, 40, 80, 100]:\n",
    "        for nugget in [1e-8]:\n",
    "            aux(kernel, s, nugget)"
   ]
  }
 ],
 "metadata": {
  "kernelspec": {
   "display_name": "Python 3 (ipykernel)",
   "language": "python",
   "name": "python3"
  },
  "language_info": {
   "codemirror_mode": {
    "name": "ipython",
    "version": 3
   },
   "file_extension": ".py",
   "mimetype": "text/x-python",
   "name": "python",
   "nbconvert_exporter": "python",
   "pygments_lexer": "ipython3",
   "version": "3.10.4"
  }
 },
 "nbformat": 4,
 "nbformat_minor": 5
}
