{
 "cells": [
  {
   "cell_type": "code",
   "execution_count": 1,
   "id": "5ca7bac0",
   "metadata": {},
   "outputs": [],
   "source": [
    "import matplotlib.pyplot as plt\n",
    "from sklearn.decomposition import PCA\n",
    "from sklearn.linear_model import LinearRegression\n",
    "from sklearn.metrics import pairwise_distances\n",
    "import numpy as onp\n",
    "import jax.numpy as np\n",
    "from jax import jit, vmap\n",
    "import matplotlib.pyplot as plt\n",
    "from tqdm.notebook import tqdm as t\n",
    "from ipywidgets import interact\n",
    "from jax import grad\n",
    "from jax.scipy.optimize import minimize\n",
    "from jax.config import config\n",
    "config.update(\"jax_enable_x64\", True)\n",
    "import jax\n",
    "from jax.scipy.linalg import cholesky, cho_factor, cho_solve\n",
    "from jax.scipy.optimize import minimize\n",
    "from jaxopt import ProjectedGradient\n",
    "from jaxopt.projection import projection_box\n",
    "import pandas as pd"
   ]
  },
  {
   "cell_type": "code",
   "execution_count": 2,
   "id": "1a79b907",
   "metadata": {},
   "outputs": [],
   "source": [
    "PCANet = pd.read_csv(\"data/PCA_NS.csv\", header = None).to_numpy()\n",
    "DeepONet = pd.read_csv(\"data/DeepONet_NS.csv\", header = None).to_numpy()\n",
    "Para = pd.read_csv(\"data/PARA_NS.csv\", header = None).to_numpy()\n",
    "FNO = pd.read_csv(\"data/FNO_NS.csv\", header = None).to_numpy()"
   ]
  },
  {
   "cell_type": "code",
   "execution_count": 3,
   "id": "6c5e4ba4",
   "metadata": {},
   "outputs": [],
   "source": [
    "#The columns = [Nexamples, network width, Train, Test]"
   ]
  },
  {
   "cell_type": "code",
   "execution_count": 4,
   "id": "a989201f",
   "metadata": {},
   "outputs": [],
   "source": [
    "Inputs = onp.load('data/Advection_inputs.npy')\n",
    "Outputs = onp.load('data/Advection_outputs.npy')"
   ]
  },
  {
   "cell_type": "markdown",
   "id": "d5235802",
   "metadata": {},
   "source": [
    "GP regression"
   ]
  },
  {
   "cell_type": "code",
   "execution_count": 5,
   "id": "74327ec9",
   "metadata": {},
   "outputs": [],
   "source": [
    "def sqeuclidean_distances(x: np.ndarray, y: np.ndarray) -> float:\n",
    "    return np.sum( (x - y) ** 2)\n",
    "dists = jit(vmap(vmap(sqeuclidean_distances, in_axes=(None, 0)), in_axes=(0, None)))\n",
    "\n",
    "def euclidean_distances(x: np.ndarray, y: np.ndarray) -> float:\n",
    "    return np.sqrt(np.sum( (x - y) ** 2))\n",
    "sqdists = jit(vmap(vmap(euclidean_distances, in_axes=(None, 0)), in_axes=(0, None)))\n",
    "\n",
    "\n",
    "@jit\n",
    "def matern(v1, v2, sigma = 50):\n",
    "    #V1 is a [k1] vector\n",
    "    #V2 is a [k2] vector\n",
    "    #returns a k1xk2 matrix\n",
    "    d = sqdists(v1, v2)\n",
    "    #return a*np.exp(-d**2/sigma)\n",
    "    return (1+np.sqrt(5)*d/sigma +5*d**2/(3*sigma**2))*np.exp(-np.sqrt(5)*d/sigma)\n",
    "\n",
    "@jit\n",
    "def exp(v1, v2, sigma):\n",
    "    #V1 is a [k1] vector\n",
    "    #V2 is a [k2] vector\n",
    "    #returns a k1xk2 matrix\n",
    "    d = dists(v1, v2)\n",
    "    return np.exp(-d/sigma)\n",
    "    #return (1+np.sqrt(5)*d/sigma +5*d**2/(3*sigma**2))*np.exp(-np.sqrt(5)*d/sigma)\n",
    "\n",
    "@jit\n",
    "def iq(v1, v2, sigma):\n",
    "    #V1 is a [k1] vector\n",
    "    #V2 is a [k2] vector\n",
    "    #returns a k1xk2 matrix\n",
    "    d = dists(v1, v2)\n",
    "    #return a*np.exp(-d**2/sigma)\n",
    "    #return (1+np.sqrt(5)*d/sigma +5*d**2/(3*sigma**2))*np.exp(-np.sqrt(5)*d/sigma)\n",
    "    return 1/np.sqrt(d+sigma)"
   ]
  },
  {
   "cell_type": "code",
   "execution_count": 6,
   "id": "c53c7c21",
   "metadata": {},
   "outputs": [],
   "source": [
    "Ntrain = 20000"
   ]
  },
  {
   "cell_type": "code",
   "execution_count": 22,
   "id": "2e850248",
   "metadata": {},
   "outputs": [],
   "source": [
    "res = np.linalg.svd(Ytr)"
   ]
  },
  {
   "cell_type": "code",
   "execution_count": 23,
   "id": "817aa6ea",
   "metadata": {},
   "outputs": [
    {
     "data": {
      "text/plain": [
       "[<matplotlib.lines.Line2D at 0x7f887c60bd30>]"
      ]
     },
     "execution_count": 23,
     "metadata": {},
     "output_type": "execute_result"
    },
    {
     "data": {
      "image/png": "[encoded data removed]",
      "text/plain": [
       "<Figure size 640x480 with 1 Axes>"
      ]
     },
     "metadata": {},
     "output_type": "display_data"
    }
   ],
   "source": [
    "plt.plot(np.log10(res[1]))"
   ]
  },
  {
   "cell_type": "code",
   "execution_count": 13,
   "id": "6e7799c2",
   "metadata": {},
   "outputs": [
    {
     "data": {
      "text/plain": [
       "(20000, 150)"
      ]
     },
     "execution_count": 13,
     "metadata": {},
     "output_type": "execute_result"
    }
   ],
   "source": [
    "Xtr.shape"
   ]
  },
  {
   "cell_type": "code",
   "execution_count": 10,
   "id": "c5fb23e6",
   "metadata": {},
   "outputs": [],
   "source": [
    "Xtr = Inputs.T[:Ntrain]\n",
    "pca_inp = PCA(n_components=150)\n",
    "Xtr = pca_inp.fit_transform(Xtr)\n",
    "Xtest = pca_inp.transform(Inputs.T[20000:])\n",
    "\n",
    "Ytr = Outputs.T[:Ntrain]\n",
    "pca_out = PCA(n_components=150)\n",
    "Ytr = pca_out.fit_transform(Ytr)\n",
    "Ytest = pca_out.transform(Outputs.T[20000:])"
   ]
  },
  {
   "cell_type": "code",
   "execution_count": 11,
   "id": "5dc9353e",
   "metadata": {
    "scrolled": false
   },
   "outputs": [
    {
     "name": "stdout",
     "output_type": "stream",
     "text": [
      "50 1e-12\n",
      "\n",
      " Train error (abs): 0.5418360071380336 \n",
      " Train error (rel): 0.03836745019438219 \n",
      " Test error (PCA space, abs): 2.0049261852702154 \n",
      " Test error (PCA space, rel): 0.14206269846077207 \n",
      " Test error (Real space, abs): 2.203369611578916 \n",
      " Test error (Real space, rel): 0.1561199706030817 \n",
      "---\n"
     ]
    }
   ],
   "source": [
    "for kernel in [matern]:\n",
    "    for s in [50]:\n",
    "        for nugget in [1e-12]:\n",
    "                k = kernel\n",
    "                Kxx = k(Xtr, Xtr, s)\n",
    "                nuggeted_matrix = Kxx.at[np.diag_indices_from(Kxx)].add(nugget)\n",
    "                L = cho_factor(nuggeted_matrix)\n",
    "                result = cho_solve(L, Ytr)\n",
    "                Train_pred = Kxx@result #train predictions\n",
    "                K_te_tr = k(Xtest, Xtr,s)\n",
    "                Test_pred = K_te_tr@result #test predictions\n",
    "\n",
    "                aux1 = np.mean(np.linalg.norm(Ytr-Train_pred, axis = 1))\n",
    "                aux2 = np.mean(np.linalg.norm(Train_pred-Ytr, axis = 1)/np.linalg.norm(Ytr, axis = 1))\n",
    "                aux3 = np.mean(np.linalg.norm(Ytest-Test_pred, axis = 1))\n",
    "                aux4 = np.mean(np.linalg.norm(Ytest-Test_pred, axis = 1)/np.linalg.norm(Ytest, axis = 1))\n",
    "\n",
    "                true_pred = pca_out.inverse_transform(Test_pred)\n",
    "                true_ytest = Outputs.T[20000:]\n",
    "\n",
    "                aux5 = np.mean(np.linalg.norm(true_ytest-true_pred, axis = 1))\n",
    "                aux6 = np.mean(np.linalg.norm(true_ytest-true_pred, axis = 1)/np.linalg.norm(Ytest, axis = 1))\n",
    "\n",
    "                print(s, nugget)\n",
    "                print(\"\\n Train error (abs): {0} \\n Train error (rel): {1} \\n Test error (PCA space, abs): {2} \\n Test error (PCA space, rel): {3} \\n Test error (Real space, abs): {4} \\n Test error (Real space, rel): {5} \".format(aux1, aux2, aux3, aux4, aux5, aux6))\n",
    "                print('---')"
   ]
  },
  {
   "cell_type": "code",
   "execution_count": null,
   "id": "dc3b0fa4",
   "metadata": {},
   "outputs": [],
   "source": []
  }
 ],
 "metadata": {
  "kernelspec": {
   "display_name": "Python 3 (ipykernel)",
   "language": "python",
   "name": "python3"
  },
  "language_info": {
   "codemirror_mode": {
    "name": "ipython",
    "version": 3
   },
   "file_extension": ".py",
   "mimetype": "text/x-python",
   "name": "python",
   "nbconvert_exporter": "python",
   "pygments_lexer": "ipython3",
   "version": "3.10.4"
  }
 },
 "nbformat": 4,
 "nbformat_minor": 5
}
